{
 "cells": [
  {
   "cell_type": "markdown",
   "metadata": {},
   "source": [
    "### Machine Learning\n",
    "\n",
    "# Practical Work 2: Dimensionality reduction and feature selection\n",
    "\n",
    "### Alunos:\n",
    "- Adriel Santos\n",
    "- Rodrigo Campo"
   ]
  },
  {
   "cell_type": "markdown",
   "metadata": {},
   "source": [
    "## Resumo\n",
    "\n",
    "O objetivo deste trabalho é fazer uma introdução sobre as técnicas de feature selection (também conhecida como variable selection ou attribute selection) e dimensionality reduction, comparando-as e apresentando alguns exemplos práticos para um melhor entendimento. \n",
    "\n",
    "Ambas metodologias buscam reduzir o número de características/atributos de um conjunto de dados, selecionado as características mais relevantes para o trabalho em modelos de predição. Entretanto, elas possuem diferenças entre si.\n",
    "\n",
    "De modo geral:\n",
    "\n",
    "- Feature selection: um subgrupo de características relevantes é gerado a partir de um grupo de características originais;\n",
    "\n",
    "- Dimensionality reduction: cria novas combinações de atributos a partir do grupo de características originais."
   ]
  },
  {
   "cell_type": "markdown",
   "metadata": {},
   "source": [
    "## Feature Selection\n",
    "\n",
    "É o processo de seleção automática dos atributos mais relevantes para o modelo de predição a ser trabalhado, incluindo ou excluindo atributos presentes no conjunto de dados sem alterá-los.\n",
    "\n",
    "Este método de seleção é bastante útil na hora de criar um modelo preditivo mais preciso, escolhendo os recursos que oferecerão melhor precisão, exigindo menos dados ao identificar e remover atributos irrelevantes ou redudantes (que não contribuem ou podem influenciar negativamente na precisão do modelo).\n",
    "\n",
    "É desejável trabalhar com menos atributos pois isso diminui a complexidade do modelo, tornando-o mais simples de entender e explicar."
   ]
  },
  {
   "cell_type": "code",
   "execution_count": null,
   "metadata": {
    "collapsed": true
   },
   "outputs": [],
   "source": []
  }
 ],
 "metadata": {
  "kernelspec": {
   "display_name": "Python 3",
   "language": "python",
   "name": "python3"
  },
  "language_info": {
   "codemirror_mode": {
    "name": "ipython",
    "version": 3
   },
   "file_extension": ".py",
   "mimetype": "text/x-python",
   "name": "python",
   "nbconvert_exporter": "python",
   "pygments_lexer": "ipython3",
   "version": "3.6.1"
  },
  "latex_envs": {
   "LaTeX_envs_menu_present": true,
   "autocomplete": true,
   "bibliofile": "biblio.bib",
   "cite_by": "apalike",
   "current_citInitial": 1,
   "eqLabelWithNumbers": true,
   "eqNumInitial": 1,
   "hotkeys": {
    "equation": "Ctrl-E",
    "itemize": "Ctrl-I"
   },
   "labels_anchors": false,
   "latex_user_defs": false,
   "report_style_numbering": false,
   "user_envs_cfg": false
  }
 },
 "nbformat": 4,
 "nbformat_minor": 2
}
